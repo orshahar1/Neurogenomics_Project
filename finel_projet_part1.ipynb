{
  "nbformat": 4,
  "nbformat_minor": 0,
  "metadata": {
    "colab": {
      "provenance": []
    },
    "kernelspec": {
      "name": "python3",
      "display_name": "Python 3"
    },
    "language_info": {
      "name": "python"
    }
  },
  "cells": [
    {
      "cell_type": "code",
      "source": [
        "!apt-get install kallisto"
      ],
      "metadata": {
        "colab": {
          "base_uri": "https://localhost:8080/"
        },
        "id": "1qzhe5mzIK-l",
        "outputId": "2b7e2e11-dbe8-4934-e5c2-fc5334cb3235"
      },
      "execution_count": null,
      "outputs": [
        {
          "output_type": "stream",
          "name": "stdout",
          "text": [
            "Reading package lists... Done\n",
            "Building dependency tree... Done\n",
            "Reading state information... Done\n",
            "The following additional packages will be installed:\n",
            "  libhts3 libhtscodecs2\n",
            "The following NEW packages will be installed:\n",
            "  kallisto libhts3 libhtscodecs2\n",
            "0 upgraded, 3 newly installed, 0 to remove and 49 not upgraded.\n",
            "Need to get 666 kB of archives.\n",
            "After this operation, 1,724 kB of additional disk space will be used.\n",
            "Get:1 http://archive.ubuntu.com/ubuntu jammy/universe amd64 libhtscodecs2 amd64 1.1.1-3 [53.2 kB]\n",
            "Get:2 http://archive.ubuntu.com/ubuntu jammy/universe amd64 libhts3 amd64 1.13+ds-2build1 [390 kB]\n",
            "Get:3 http://archive.ubuntu.com/ubuntu jammy/universe amd64 kallisto amd64 0.46.2+dfsg-3 [223 kB]\n",
            "Fetched 666 kB in 0s (4,998 kB/s)\n",
            "Selecting previously unselected package libhtscodecs2:amd64.\n",
            "(Reading database ... 123597 files and directories currently installed.)\n",
            "Preparing to unpack .../libhtscodecs2_1.1.1-3_amd64.deb ...\n",
            "Unpacking libhtscodecs2:amd64 (1.1.1-3) ...\n",
            "Selecting previously unselected package libhts3:amd64.\n",
            "Preparing to unpack .../libhts3_1.13+ds-2build1_amd64.deb ...\n",
            "Unpacking libhts3:amd64 (1.13+ds-2build1) ...\n",
            "Selecting previously unselected package kallisto.\n",
            "Preparing to unpack .../kallisto_0.46.2+dfsg-3_amd64.deb ...\n",
            "Unpacking kallisto (0.46.2+dfsg-3) ...\n",
            "Setting up libhtscodecs2:amd64 (1.1.1-3) ...\n",
            "Setting up libhts3:amd64 (1.13+ds-2build1) ...\n",
            "Setting up kallisto (0.46.2+dfsg-3) ...\n",
            "Processing triggers for man-db (2.10.2-1) ...\n",
            "Processing triggers for libc-bin (2.35-0ubuntu3.4) ...\n",
            "/sbin/ldconfig.real: /usr/local/lib/libur_adapter_level_zero.so.0 is not a symbolic link\n",
            "\n",
            "/sbin/ldconfig.real: /usr/local/lib/libtbbbind_2_0.so.3 is not a symbolic link\n",
            "\n",
            "/sbin/ldconfig.real: /usr/local/lib/libtbbmalloc_proxy.so.2 is not a symbolic link\n",
            "\n",
            "/sbin/ldconfig.real: /usr/local/lib/libur_loader.so.0 is not a symbolic link\n",
            "\n",
            "/sbin/ldconfig.real: /usr/local/lib/libtbb.so.12 is not a symbolic link\n",
            "\n",
            "/sbin/ldconfig.real: /usr/local/lib/libur_adapter_opencl.so.0 is not a symbolic link\n",
            "\n",
            "/sbin/ldconfig.real: /usr/local/lib/libtbbbind.so.3 is not a symbolic link\n",
            "\n",
            "/sbin/ldconfig.real: /usr/local/lib/libtbbmalloc.so.2 is not a symbolic link\n",
            "\n",
            "/sbin/ldconfig.real: /usr/local/lib/libtbbbind_2_5.so.3 is not a symbolic link\n",
            "\n"
          ]
        }
      ]
    },
    {
      "cell_type": "code",
      "source": [
        "\n",
        "from google.colab import drive\n",
        "drive.mount('/content/drive')\n",
        "!ls /content/drive/MyDrive/\"genomic project\"\n",
        "\n",
        "!wget ftp://ftp.ensembl.org/pub/release-105/fasta/mus_musculus/cdna/Mus_musculus.GRCm39.cdna.all.fa.gz\n",
        "!gunzip Mus_musculus.GRCm39.cdna.all.fa.gz\n",
        "!kallisto index -i transcripts.idx Mus_musculus.GRCm39.cdna.all.fa\n",
        "\n",
        "\n"
      ],
      "metadata": {
        "colab": {
          "base_uri": "https://localhost:8080/"
        },
        "id": "bVUCSHsX-pxl",
        "outputId": "0bd7ab65-66de-4bf4-dde2-3c06fb1709eb"
      },
      "execution_count": null,
      "outputs": [
        {
          "output_type": "stream",
          "name": "stdout",
          "text": [
            "Mounted at /content/drive\n",
            "C1.fastq  C2.fastq  C3.fastq  KO1.fastq  KO2.fastq  KO3.fastq\n",
            "--2024-09-09 09:05:42--  ftp://ftp.ensembl.org/pub/release-105/fasta/mus_musculus/cdna/Mus_musculus.GRCm39.cdna.all.fa.gz\n",
            "           => ‘Mus_musculus.GRCm39.cdna.all.fa.gz’\n",
            "Resolving ftp.ensembl.org (ftp.ensembl.org)... 193.62.193.169\n",
            "Connecting to ftp.ensembl.org (ftp.ensembl.org)|193.62.193.169|:21... connected.\n",
            "Logging in as anonymous ... Logged in!\n",
            "==> SYST ... done.    ==> PWD ... done.\n",
            "==> TYPE I ... done.  ==> CWD (1) /pub/release-105/fasta/mus_musculus/cdna ... done.\n",
            "==> SIZE Mus_musculus.GRCm39.cdna.all.fa.gz ... 51166448\n",
            "==> PASV ... done.    ==> RETR Mus_musculus.GRCm39.cdna.all.fa.gz ... done.\n",
            "Length: 51166448 (49M) (unauthoritative)\n",
            "\n",
            "Mus_musculus.GRCm39 100%[===================>]  48.80M   106MB/s    in 0.5s    \n",
            "\n",
            "2024-09-09 09:05:43 (106 MB/s) - ‘Mus_musculus.GRCm39.cdna.all.fa.gz’ saved [51166448]\n",
            "\n",
            "\n",
            "[build] loading fasta file Mus_musculus.GRCm39.cdna.all.fa\n",
            "[build] k-mer length: 31\n",
            "[build] warning: clipped off poly-A tail (longer than 10)\n",
            "        from 647 target sequences\n",
            "[build] counting k-mers ... done.\n",
            "[build] building target de Bruijn graph ...  done \n",
            "[build] creating equivalence classes ...  done\n",
            "[build] target de Bruijn graph has 736041 contigs and contains 100960065 k-mers \n",
            "\n"
          ]
        }
      ]
    },
    {
      "cell_type": "code",
      "source": [
        "!kallisto quant -i transcripts.idx -o output_C1 --single -l 300 -s 50 /content/drive/MyDrive/genomic\\ project/C1.fastq"
      ],
      "metadata": {
        "colab": {
          "base_uri": "https://localhost:8080/"
        },
        "id": "nPkHqWxQBDtF",
        "outputId": "1dc980a2-a321-4134-d8cb-f1d8988593d3"
      },
      "execution_count": null,
      "outputs": [
        {
          "output_type": "stream",
          "name": "stdout",
          "text": [
            "\n",
            "Error: kallisto index file not found transcripts.idx\n",
            "Error: file not found /content/drive/MyDrive/genomic project/C1.fastq\n",
            "\n",
            "Usage: kallisto quant [arguments] FASTQ-files\n",
            "\n",
            "Required arguments:\n",
            "-i, --index=STRING            Filename for the kallisto index to be used for\n",
            "                              quantification\n",
            "-o, --output-dir=STRING       Directory to write output to\n",
            "\n",
            "Optional arguments:\n",
            "    --bias                    Perform sequence based bias correction\n",
            "-b, --bootstrap-samples=INT   Number of bootstrap samples (default: 0)\n",
            "    --seed=INT                Seed for the bootstrap sampling (default: 42)\n",
            "    --plaintext               Output plaintext instead of HDF5\n",
            "    --fusion                  Search for fusions for Pizzly\n",
            "    --single                  Quantify single-end reads\n",
            "    --single-overhang         Include reads where unobserved rest of fragment is\n",
            "                              predicted to lie outside a transcript\n",
            "    --fr-stranded             Strand specific reads, first read forward\n",
            "    --rf-stranded             Strand specific reads, first read reverse\n",
            "-l, --fragment-length=DOUBLE  Estimated average fragment length\n",
            "-s, --sd=DOUBLE               Estimated standard deviation of fragment length\n",
            "                              (default: -l, -s values are estimated from paired\n",
            "                               end data, but are required when using --single)\n",
            "-t, --threads=INT             Number of threads to use (default: 1)\n",
            "    --pseudobam               Save pseudoalignments to transcriptome to BAM file\n",
            "    --genomebam               Project pseudoalignments to genome sorted BAM file\n",
            "-g, --gtf                     GTF file for transcriptome information\n",
            "                              (required for --genomebam)\n",
            "-c, --chromosomes             Tab separated file with chromosome names and lengths\n",
            "                              (optional for --genomebam, but recommended)\n",
            "    --verbose                 Print out progress information every 1M proccessed reads\n"
          ]
        }
      ]
    },
    {
      "cell_type": "code",
      "source": [
        "# C1:\n",
        "!kallisto quant -i transcripts.idx -o output_C1 --single -l 300 -s 50 /content/drive/MyDrive/genomic\\ project/C1.fastq\n",
        "import pandas as pd\n",
        "\n",
        "# Load one of the abundance files\n",
        "df = pd.read_csv('output_C1/abundance.tsv', sep='\\t')\n",
        "\n",
        "# Summing TPM values by gene\n",
        "# Assuming gene IDs are part of the 'target_id' column\n",
        "df['gene_id'] = df['target_id'].apply(lambda x: x.split('.')[0])\n",
        "gene_counts = df.groupby('gene_id')['tpm'].sum()\n",
        "\n",
        "# Display summed TPM counts by gene\n",
        "print(gene_counts.head())\n",
        "\n",
        "# Round the Expression Values for Differential Expression Analysis\n",
        "rounded_counts = gene_counts.round().astype(int)\n",
        "print(rounded_counts.head())\n",
        "\n"
      ],
      "metadata": {
        "colab": {
          "base_uri": "https://localhost:8080/"
        },
        "id": "cIn_Xnh_Govr",
        "outputId": "86f82f96-e5ed-4718-e9ca-adef8e975eef"
      },
      "execution_count": null,
      "outputs": [
        {
          "output_type": "stream",
          "name": "stdout",
          "text": [
            "\n",
            "[quant] fragment length distribution is truncated gaussian with mean = 300, sd = 50\n",
            "[index] k-mer length: 31\n",
            "[index] number of targets: 117,494\n",
            "[index] number of k-mers: 100,960,065\n",
            "[index] number of equivalence classes: 431,932\n",
            "[quant] running in single-end mode\n",
            "[quant] will process file 1: /content/drive/MyDrive/genomic project/C1.fastq\n",
            "[quant] finding pseudoalignments for the reads ... done\n",
            "[quant] processed 154,122,297 reads, 131,983,347 reads pseudoaligned\n",
            "[   em] quantifying the abundances ... done\n",
            "[   em] the Expectation-Maximization algorithm ran for 1,331 rounds\n",
            "\n",
            "gene_id\n",
            "ENSMUST00000000001    19.78350\n",
            "ENSMUST00000000003     0.00000\n",
            "ENSMUST00000000010     0.00000\n",
            "ENSMUST00000000028     1.10862\n",
            "ENSMUST00000000033    47.03390\n",
            "Name: tpm, dtype: float64\n",
            "gene_id\n",
            "ENSMUST00000000001    20\n",
            "ENSMUST00000000003     0\n",
            "ENSMUST00000000010     0\n",
            "ENSMUST00000000028     1\n",
            "ENSMUST00000000033    47\n",
            "Name: tpm, dtype: int64\n"
          ]
        }
      ]
    },
    {
      "cell_type": "code",
      "source": [
        "!ls output_C1\n",
        "from google.colab import files\n",
        "files.download('output_C1/abundance.tsv')\n",
        "\n"
      ],
      "metadata": {
        "colab": {
          "base_uri": "https://localhost:8080/",
          "height": 34
        },
        "id": "PiT51-BmOYFf",
        "outputId": "909ffd83-4645-413e-ba11-2137f241bb02"
      },
      "execution_count": null,
      "outputs": [
        {
          "output_type": "stream",
          "name": "stdout",
          "text": [
            "abundance.tsv  run_info.json\n"
          ]
        },
        {
          "output_type": "display_data",
          "data": {
            "text/plain": [
              "<IPython.core.display.Javascript object>"
            ],
            "application/javascript": [
              "\n",
              "    async function download(id, filename, size) {\n",
              "      if (!google.colab.kernel.accessAllowed) {\n",
              "        return;\n",
              "      }\n",
              "      const div = document.createElement('div');\n",
              "      const label = document.createElement('label');\n",
              "      label.textContent = `Downloading \"${filename}\": `;\n",
              "      div.appendChild(label);\n",
              "      const progress = document.createElement('progress');\n",
              "      progress.max = size;\n",
              "      div.appendChild(progress);\n",
              "      document.body.appendChild(div);\n",
              "\n",
              "      const buffers = [];\n",
              "      let downloaded = 0;\n",
              "\n",
              "      const channel = await google.colab.kernel.comms.open(id);\n",
              "      // Send a message to notify the kernel that we're ready.\n",
              "      channel.send({})\n",
              "\n",
              "      for await (const message of channel.messages) {\n",
              "        // Send a message to notify the kernel that we're ready.\n",
              "        channel.send({})\n",
              "        if (message.buffers) {\n",
              "          for (const buffer of message.buffers) {\n",
              "            buffers.push(buffer);\n",
              "            downloaded += buffer.byteLength;\n",
              "            progress.value = downloaded;\n",
              "          }\n",
              "        }\n",
              "      }\n",
              "      const blob = new Blob(buffers, {type: 'application/binary'});\n",
              "      const a = document.createElement('a');\n",
              "      a.href = window.URL.createObjectURL(blob);\n",
              "      a.download = filename;\n",
              "      div.appendChild(a);\n",
              "      a.click();\n",
              "      div.remove();\n",
              "    }\n",
              "  "
            ]
          },
          "metadata": {}
        },
        {
          "output_type": "display_data",
          "data": {
            "text/plain": [
              "<IPython.core.display.Javascript object>"
            ],
            "application/javascript": [
              "download(\"download_47d50cc0-9b20-4e07-bf6d-012c11947d5e\", \"abundance.tsv\", 4964064)"
            ]
          },
          "metadata": {}
        }
      ]
    },
    {
      "cell_type": "code",
      "source": [
        "# C2:\n",
        "!kallisto quant -i transcripts.idx -o output_C2 --single -l 300 -s 50 /content/drive/MyDrive/genomic\\ project/C2.fastq\n",
        "import pandas as pd\n",
        "\n",
        "# Load one of the abundance files\n",
        "df = pd.read_csv('output_C2/abundance.tsv', sep='\\t')\n",
        "\n",
        "# Summing TPM values by gene\n",
        "# Assuming gene IDs are part of the 'target_id' column\n",
        "df['gene_id'] = df['target_id'].apply(lambda x: x.split('.')[0])\n",
        "gene_counts = df.groupby('gene_id')['tpm'].sum()\n",
        "\n",
        "# Display summed TPM counts by gene\n",
        "print(gene_counts.head())\n",
        "\n",
        "# Round the Expression Values for Differential Expression Analysis\n",
        "rounded_counts = gene_counts.round().astype(int)\n",
        "print(rounded_counts.head())\n",
        "\n",
        "#הורדה למחשב שלי\n",
        "from google.colab import files\n",
        "files.download('output_C2/abundance.tsv')"
      ],
      "metadata": {
        "colab": {
          "base_uri": "https://localhost:8080/",
          "height": 486
        },
        "id": "z8PTLU1eO5r0",
        "outputId": "300fe671-07bc-475b-f44a-df73715730ac"
      },
      "execution_count": null,
      "outputs": [
        {
          "output_type": "stream",
          "name": "stdout",
          "text": [
            "\n",
            "[quant] fragment length distribution is truncated gaussian with mean = 300, sd = 50\n",
            "[index] k-mer length: 31\n",
            "[index] number of targets: 117,494\n",
            "[index] number of k-mers: 100,960,065\n",
            "[index] number of equivalence classes: 431,932\n",
            "[quant] running in single-end mode\n",
            "[quant] will process file 1: /content/drive/MyDrive/genomic project/C2.fastq\n",
            "[quant] finding pseudoalignments for the reads ... done\n",
            "[quant] processed 71,327,196 reads, 61,042,565 reads pseudoaligned\n",
            "[   em] quantifying the abundances ... done\n",
            "[   em] the Expectation-Maximization algorithm ran for 1,324 rounds\n",
            "\n",
            "gene_id\n",
            "ENSMUST00000000001    18.54130\n",
            "ENSMUST00000000003     0.00000\n",
            "ENSMUST00000000010     0.00000\n",
            "ENSMUST00000000028     1.38798\n",
            "ENSMUST00000000033    47.18520\n",
            "Name: tpm, dtype: float64\n",
            "gene_id\n",
            "ENSMUST00000000001    19\n",
            "ENSMUST00000000003     0\n",
            "ENSMUST00000000010     0\n",
            "ENSMUST00000000028     1\n",
            "ENSMUST00000000033    47\n",
            "Name: tpm, dtype: int64\n"
          ]
        },
        {
          "output_type": "display_data",
          "data": {
            "text/plain": [
              "<IPython.core.display.Javascript object>"
            ],
            "application/javascript": [
              "\n",
              "    async function download(id, filename, size) {\n",
              "      if (!google.colab.kernel.accessAllowed) {\n",
              "        return;\n",
              "      }\n",
              "      const div = document.createElement('div');\n",
              "      const label = document.createElement('label');\n",
              "      label.textContent = `Downloading \"${filename}\": `;\n",
              "      div.appendChild(label);\n",
              "      const progress = document.createElement('progress');\n",
              "      progress.max = size;\n",
              "      div.appendChild(progress);\n",
              "      document.body.appendChild(div);\n",
              "\n",
              "      const buffers = [];\n",
              "      let downloaded = 0;\n",
              "\n",
              "      const channel = await google.colab.kernel.comms.open(id);\n",
              "      // Send a message to notify the kernel that we're ready.\n",
              "      channel.send({})\n",
              "\n",
              "      for await (const message of channel.messages) {\n",
              "        // Send a message to notify the kernel that we're ready.\n",
              "        channel.send({})\n",
              "        if (message.buffers) {\n",
              "          for (const buffer of message.buffers) {\n",
              "            buffers.push(buffer);\n",
              "            downloaded += buffer.byteLength;\n",
              "            progress.value = downloaded;\n",
              "          }\n",
              "        }\n",
              "      }\n",
              "      const blob = new Blob(buffers, {type: 'application/binary'});\n",
              "      const a = document.createElement('a');\n",
              "      a.href = window.URL.createObjectURL(blob);\n",
              "      a.download = filename;\n",
              "      div.appendChild(a);\n",
              "      a.click();\n",
              "      div.remove();\n",
              "    }\n",
              "  "
            ]
          },
          "metadata": {}
        },
        {
          "output_type": "display_data",
          "data": {
            "text/plain": [
              "<IPython.core.display.Javascript object>"
            ],
            "application/javascript": [
              "download(\"download_94f2f17a-e49a-45ba-9bf5-30d9dafac67c\", \"abundance.tsv\", 4879930)"
            ]
          },
          "metadata": {}
        }
      ]
    },
    {
      "cell_type": "code",
      "source": [
        "# C3:\n",
        "!kallisto quant -i transcripts.idx -o output_C3 --single -l 300 -s 50 /content/drive/MyDrive/genomic\\ project/C3.fastq\n",
        "import pandas as pd\n",
        "\n",
        "# Load one of the abundance files\n",
        "df = pd.read_csv('output_C3/abundance.tsv', sep='\\t')\n",
        "\n",
        "# Summing TPM values by gene\n",
        "# Assuming gene IDs are part of the 'target_id' column\n",
        "df['gene_id'] = df['target_id'].apply(lambda x: x.split('.')[0])\n",
        "gene_counts = df.groupby('gene_id')['tpm'].sum()\n",
        "\n",
        "# Display summed TPM counts by gene\n",
        "print(gene_counts.head())\n",
        "\n",
        "# Round the Expression Values for Differential Expression Analysis\n",
        "rounded_counts = gene_counts.round().astype(int)\n",
        "print(rounded_counts.head())\n",
        "\n",
        "#הורדה למחשב שלי\n",
        "from google.colab import files\n",
        "files.download('output_C3/abundance.tsv')"
      ],
      "metadata": {
        "colab": {
          "base_uri": "https://localhost:8080/",
          "height": 486
        },
        "id": "38SJmBi8PEYi",
        "outputId": "ad219760-ceec-4e34-c56a-875c540c1b61"
      },
      "execution_count": null,
      "outputs": [
        {
          "output_type": "stream",
          "name": "stdout",
          "text": [
            "\n",
            "[quant] fragment length distribution is truncated gaussian with mean = 300, sd = 50\n",
            "[index] k-mer length: 31\n",
            "[index] number of targets: 117,494\n",
            "[index] number of k-mers: 100,960,065\n",
            "[index] number of equivalence classes: 431,932\n",
            "[quant] running in single-end mode\n",
            "[quant] will process file 1: /content/drive/MyDrive/genomic project/C3.fastq\n",
            "[quant] finding pseudoalignments for the reads ... done\n",
            "[quant] processed 177,873,225 reads, 152,344,459 reads pseudoaligned\n",
            "[   em] quantifying the abundances ... done\n",
            "[   em] the Expectation-Maximization algorithm ran for 1,337 rounds\n",
            "\n",
            "gene_id\n",
            "ENSMUST00000000001    21.674000\n",
            "ENSMUST00000000003     0.000000\n",
            "ENSMUST00000000010     0.030178\n",
            "ENSMUST00000000028     0.788960\n",
            "ENSMUST00000000033    49.015000\n",
            "Name: tpm, dtype: float64\n",
            "gene_id\n",
            "ENSMUST00000000001    22\n",
            "ENSMUST00000000003     0\n",
            "ENSMUST00000000010     0\n",
            "ENSMUST00000000028     1\n",
            "ENSMUST00000000033    49\n",
            "Name: tpm, dtype: int64\n"
          ]
        },
        {
          "output_type": "display_data",
          "data": {
            "text/plain": [
              "<IPython.core.display.Javascript object>"
            ],
            "application/javascript": [
              "\n",
              "    async function download(id, filename, size) {\n",
              "      if (!google.colab.kernel.accessAllowed) {\n",
              "        return;\n",
              "      }\n",
              "      const div = document.createElement('div');\n",
              "      const label = document.createElement('label');\n",
              "      label.textContent = `Downloading \"${filename}\": `;\n",
              "      div.appendChild(label);\n",
              "      const progress = document.createElement('progress');\n",
              "      progress.max = size;\n",
              "      div.appendChild(progress);\n",
              "      document.body.appendChild(div);\n",
              "\n",
              "      const buffers = [];\n",
              "      let downloaded = 0;\n",
              "\n",
              "      const channel = await google.colab.kernel.comms.open(id);\n",
              "      // Send a message to notify the kernel that we're ready.\n",
              "      channel.send({})\n",
              "\n",
              "      for await (const message of channel.messages) {\n",
              "        // Send a message to notify the kernel that we're ready.\n",
              "        channel.send({})\n",
              "        if (message.buffers) {\n",
              "          for (const buffer of message.buffers) {\n",
              "            buffers.push(buffer);\n",
              "            downloaded += buffer.byteLength;\n",
              "            progress.value = downloaded;\n",
              "          }\n",
              "        }\n",
              "      }\n",
              "      const blob = new Blob(buffers, {type: 'application/binary'});\n",
              "      const a = document.createElement('a');\n",
              "      a.href = window.URL.createObjectURL(blob);\n",
              "      a.download = filename;\n",
              "      div.appendChild(a);\n",
              "      a.click();\n",
              "      div.remove();\n",
              "    }\n",
              "  "
            ]
          },
          "metadata": {}
        },
        {
          "output_type": "display_data",
          "data": {
            "text/plain": [
              "<IPython.core.display.Javascript object>"
            ],
            "application/javascript": [
              "download(\"download_3f8c18ff-d867-4824-89eb-ac40d2247308\", \"abundance.tsv\", 4959342)"
            ]
          },
          "metadata": {}
        }
      ]
    },
    {
      "cell_type": "code",
      "source": [
        "# KO1:\n",
        "!kallisto quant -i transcripts.idx -o output_KO1 --single -l 300 -s 50 /content/drive/MyDrive/genomic\\ project/KO1.fastq\n",
        "import pandas as pd\n",
        "\n",
        "# Load one of the abundance files\n",
        "df = pd.read_csv('output_KO1/abundance.tsv', sep='\\t')\n",
        "\n",
        "# Summing TPM values by gene\n",
        "# Assuming gene IDs are part of the 'target_id' column\n",
        "df['gene_id'] = df['target_id'].apply(lambda x: x.split('.')[0])\n",
        "gene_counts = df.groupby('gene_id')['tpm'].sum()\n",
        "\n",
        "# Display summed TPM counts by gene\n",
        "print(gene_counts.head())\n",
        "\n",
        "# Round the Expression Values for Differential Expression Analysis\n",
        "rounded_counts = gene_counts.round().astype(int)\n",
        "print(rounded_counts.head())\n",
        "\n",
        "#הורדה למחשב שלי\n",
        "from google.colab import files\n",
        "files.download('output_KO1/abundance.tsv')"
      ],
      "metadata": {
        "colab": {
          "base_uri": "https://localhost:8080/",
          "height": 486
        },
        "id": "Q37EMK4SdUeZ",
        "outputId": "55d2f68f-eae9-43f8-a1bc-6edc72390536"
      },
      "execution_count": null,
      "outputs": [
        {
          "output_type": "stream",
          "name": "stdout",
          "text": [
            "\n",
            "[quant] fragment length distribution is truncated gaussian with mean = 300, sd = 50\n",
            "[index] k-mer length: 31\n",
            "[index] number of targets: 117,494\n",
            "[index] number of k-mers: 100,960,065\n",
            "[index] number of equivalence classes: 431,932\n",
            "[quant] running in single-end mode\n",
            "[quant] will process file 1: /content/drive/MyDrive/genomic project/KO1.fastq\n",
            "[quant] finding pseudoalignments for the reads ... done\n",
            "[quant] processed 216,644,548 reads, 185,802,319 reads pseudoaligned\n",
            "[   em] quantifying the abundances ... done\n",
            "[   em] the Expectation-Maximization algorithm ran for 1,730 rounds\n",
            "\n",
            "gene_id\n",
            "ENSMUST00000000001    20.6818\n",
            "ENSMUST00000000003     0.0000\n",
            "ENSMUST00000000010     0.0000\n",
            "ENSMUST00000000028     1.3225\n",
            "ENSMUST00000000033    49.0218\n",
            "Name: tpm, dtype: float64\n",
            "gene_id\n",
            "ENSMUST00000000001    21\n",
            "ENSMUST00000000003     0\n",
            "ENSMUST00000000010     0\n",
            "ENSMUST00000000028     1\n",
            "ENSMUST00000000033    49\n",
            "Name: tpm, dtype: int64\n"
          ]
        },
        {
          "output_type": "display_data",
          "data": {
            "text/plain": [
              "<IPython.core.display.Javascript object>"
            ],
            "application/javascript": [
              "\n",
              "    async function download(id, filename, size) {\n",
              "      if (!google.colab.kernel.accessAllowed) {\n",
              "        return;\n",
              "      }\n",
              "      const div = document.createElement('div');\n",
              "      const label = document.createElement('label');\n",
              "      label.textContent = `Downloading \"${filename}\": `;\n",
              "      div.appendChild(label);\n",
              "      const progress = document.createElement('progress');\n",
              "      progress.max = size;\n",
              "      div.appendChild(progress);\n",
              "      document.body.appendChild(div);\n",
              "\n",
              "      const buffers = [];\n",
              "      let downloaded = 0;\n",
              "\n",
              "      const channel = await google.colab.kernel.comms.open(id);\n",
              "      // Send a message to notify the kernel that we're ready.\n",
              "      channel.send({})\n",
              "\n",
              "      for await (const message of channel.messages) {\n",
              "        // Send a message to notify the kernel that we're ready.\n",
              "        channel.send({})\n",
              "        if (message.buffers) {\n",
              "          for (const buffer of message.buffers) {\n",
              "            buffers.push(buffer);\n",
              "            downloaded += buffer.byteLength;\n",
              "            progress.value = downloaded;\n",
              "          }\n",
              "        }\n",
              "      }\n",
              "      const blob = new Blob(buffers, {type: 'application/binary'});\n",
              "      const a = document.createElement('a');\n",
              "      a.href = window.URL.createObjectURL(blob);\n",
              "      a.download = filename;\n",
              "      div.appendChild(a);\n",
              "      a.click();\n",
              "      div.remove();\n",
              "    }\n",
              "  "
            ]
          },
          "metadata": {}
        },
        {
          "output_type": "display_data",
          "data": {
            "text/plain": [
              "<IPython.core.display.Javascript object>"
            ],
            "application/javascript": [
              "download(\"download_c95a5070-1f6c-4535-9044-be31708455f0\", \"abundance.tsv\", 4962553)"
            ]
          },
          "metadata": {}
        }
      ]
    },
    {
      "cell_type": "code",
      "source": [
        "# KO2:\n",
        "!kallisto quant -i transcripts.idx -o output_KO2 --single -l 300 -s 50 /content/drive/MyDrive/genomic\\ project/KO2.fastq\n",
        "import pandas as pd\n",
        "\n",
        "# Load one of the abundance files\n",
        "df = pd.read_csv('output_KO2/abundance.tsv', sep='\\t')\n",
        "\n",
        "# Summing TPM values by gene\n",
        "# Assuming gene IDs are part of the 'target_id' column\n",
        "df['gene_id'] = df['target_id'].apply(lambda x: x.split('.')[0])\n",
        "gene_counts = df.groupby('gene_id')['tpm'].sum()\n",
        "\n",
        "# Display summed TPM counts by gene\n",
        "print(gene_counts.head())\n",
        "\n",
        "# Round the Expression Values for Differential Expression Analysis\n",
        "rounded_counts = gene_counts.round().astype(int)\n",
        "print(rounded_counts.head())\n",
        "\n",
        "#הורדה למחשב שלי\n",
        "from google.colab import files\n",
        "files.download('output_KO2/abundance.tsv')"
      ],
      "metadata": {
        "colab": {
          "base_uri": "https://localhost:8080/",
          "height": 486
        },
        "id": "HKNhSUoWddE6",
        "outputId": "22eb2aed-9d53-4328-c3e5-ab93d65833eb"
      },
      "execution_count": null,
      "outputs": [
        {
          "output_type": "stream",
          "name": "stdout",
          "text": [
            "\n",
            "[quant] fragment length distribution is truncated gaussian with mean = 300, sd = 50\n",
            "[index] k-mer length: 31\n",
            "[index] number of targets: 117,494\n",
            "[index] number of k-mers: 100,960,065\n",
            "[index] number of equivalence classes: 431,932\n",
            "[quant] running in single-end mode\n",
            "[quant] will process file 1: /content/drive/MyDrive/genomic project/KO2.fastq\n",
            "[quant] finding pseudoalignments for the reads ... done\n",
            "[quant] processed 156,209,440 reads, 133,462,755 reads pseudoaligned\n",
            "[   em] quantifying the abundances ... done\n",
            "[   em] the Expectation-Maximization algorithm ran for 1,333 rounds\n",
            "\n",
            "gene_id\n",
            "ENSMUST00000000001    21.600400\n",
            "ENSMUST00000000003     0.000000\n",
            "ENSMUST00000000010     0.000000\n",
            "ENSMUST00000000028     0.790319\n",
            "ENSMUST00000000033    39.312400\n",
            "Name: tpm, dtype: float64\n",
            "gene_id\n",
            "ENSMUST00000000001    22\n",
            "ENSMUST00000000003     0\n",
            "ENSMUST00000000010     0\n",
            "ENSMUST00000000028     1\n",
            "ENSMUST00000000033    39\n",
            "Name: tpm, dtype: int64\n"
          ]
        },
        {
          "output_type": "display_data",
          "data": {
            "text/plain": [
              "<IPython.core.display.Javascript object>"
            ],
            "application/javascript": [
              "\n",
              "    async function download(id, filename, size) {\n",
              "      if (!google.colab.kernel.accessAllowed) {\n",
              "        return;\n",
              "      }\n",
              "      const div = document.createElement('div');\n",
              "      const label = document.createElement('label');\n",
              "      label.textContent = `Downloading \"${filename}\": `;\n",
              "      div.appendChild(label);\n",
              "      const progress = document.createElement('progress');\n",
              "      progress.max = size;\n",
              "      div.appendChild(progress);\n",
              "      document.body.appendChild(div);\n",
              "\n",
              "      const buffers = [];\n",
              "      let downloaded = 0;\n",
              "\n",
              "      const channel = await google.colab.kernel.comms.open(id);\n",
              "      // Send a message to notify the kernel that we're ready.\n",
              "      channel.send({})\n",
              "\n",
              "      for await (const message of channel.messages) {\n",
              "        // Send a message to notify the kernel that we're ready.\n",
              "        channel.send({})\n",
              "        if (message.buffers) {\n",
              "          for (const buffer of message.buffers) {\n",
              "            buffers.push(buffer);\n",
              "            downloaded += buffer.byteLength;\n",
              "            progress.value = downloaded;\n",
              "          }\n",
              "        }\n",
              "      }\n",
              "      const blob = new Blob(buffers, {type: 'application/binary'});\n",
              "      const a = document.createElement('a');\n",
              "      a.href = window.URL.createObjectURL(blob);\n",
              "      a.download = filename;\n",
              "      div.appendChild(a);\n",
              "      a.click();\n",
              "      div.remove();\n",
              "    }\n",
              "  "
            ]
          },
          "metadata": {}
        },
        {
          "output_type": "display_data",
          "data": {
            "text/plain": [
              "<IPython.core.display.Javascript object>"
            ],
            "application/javascript": [
              "download(\"download_0302f1cc-0b1d-41e3-a32e-fe47eefb1ae7\", \"abundance.tsv\", 4936720)"
            ]
          },
          "metadata": {}
        }
      ]
    },
    {
      "cell_type": "code",
      "source": [
        "# KO3:\n",
        "!kallisto quant -i transcripts.idx -o output_KO3 --single -l 300 -s 50 /content/drive/MyDrive/genomic\\ project/KO3.fastq\n",
        "import pandas as pd\n",
        "\n",
        "# Load one of the abundance files\n",
        "df = pd.read_csv('output_KO3/abundance.tsv', sep='\\t')\n",
        "\n",
        "# Summing TPM values by gene\n",
        "# Assuming gene IDs are part of the 'target_id' column\n",
        "df['gene_id'] = df['target_id'].apply(lambda x: x.split('.')[0])\n",
        "gene_counts = df.groupby('gene_id')['tpm'].sum()\n",
        "\n",
        "# Display summed TPM counts by gene\n",
        "print(gene_counts.head())\n",
        "\n",
        "# Round the Expression Values for Differential Expression Analysis\n",
        "rounded_counts = gene_counts.round().astype(int)\n",
        "print(rounded_counts.head())\n",
        "\n",
        "#הורדה למחשב שלי\n",
        "from google.colab import files\n",
        "files.download('output_KO3/abundance.tsv')"
      ],
      "metadata": {
        "colab": {
          "base_uri": "https://localhost:8080/",
          "height": 486
        },
        "id": "AhUYduj9dgsv",
        "outputId": "2464c696-c3ef-46b7-f037-02fc45210215"
      },
      "execution_count": null,
      "outputs": [
        {
          "output_type": "stream",
          "name": "stdout",
          "text": [
            "\n",
            "[quant] fragment length distribution is truncated gaussian with mean = 300, sd = 50\n",
            "[index] k-mer length: 31\n",
            "[index] number of targets: 117,494\n",
            "[index] number of k-mers: 100,960,065\n",
            "[index] number of equivalence classes: 431,932\n",
            "[quant] running in single-end mode\n",
            "[quant] will process file 1: /content/drive/MyDrive/genomic project/KO3.fastq\n",
            "[quant] finding pseudoalignments for the reads ... done\n",
            "[quant] processed 168,039,497 reads, 144,403,453 reads pseudoaligned\n",
            "[   em] quantifying the abundances ... done\n",
            "[   em] the Expectation-Maximization algorithm ran for 1,684 rounds\n",
            "\n",
            "gene_id\n",
            "ENSMUST00000000001    20.823900\n",
            "ENSMUST00000000003     0.000000\n",
            "ENSMUST00000000010     0.000000\n",
            "ENSMUST00000000028     0.731412\n",
            "ENSMUST00000000033    50.483900\n",
            "Name: tpm, dtype: float64\n",
            "gene_id\n",
            "ENSMUST00000000001    21\n",
            "ENSMUST00000000003     0\n",
            "ENSMUST00000000010     0\n",
            "ENSMUST00000000028     1\n",
            "ENSMUST00000000033    50\n",
            "Name: tpm, dtype: int64\n"
          ]
        },
        {
          "output_type": "display_data",
          "data": {
            "text/plain": [
              "<IPython.core.display.Javascript object>"
            ],
            "application/javascript": [
              "\n",
              "    async function download(id, filename, size) {\n",
              "      if (!google.colab.kernel.accessAllowed) {\n",
              "        return;\n",
              "      }\n",
              "      const div = document.createElement('div');\n",
              "      const label = document.createElement('label');\n",
              "      label.textContent = `Downloading \"${filename}\": `;\n",
              "      div.appendChild(label);\n",
              "      const progress = document.createElement('progress');\n",
              "      progress.max = size;\n",
              "      div.appendChild(progress);\n",
              "      document.body.appendChild(div);\n",
              "\n",
              "      const buffers = [];\n",
              "      let downloaded = 0;\n",
              "\n",
              "      const channel = await google.colab.kernel.comms.open(id);\n",
              "      // Send a message to notify the kernel that we're ready.\n",
              "      channel.send({})\n",
              "\n",
              "      for await (const message of channel.messages) {\n",
              "        // Send a message to notify the kernel that we're ready.\n",
              "        channel.send({})\n",
              "        if (message.buffers) {\n",
              "          for (const buffer of message.buffers) {\n",
              "            buffers.push(buffer);\n",
              "            downloaded += buffer.byteLength;\n",
              "            progress.value = downloaded;\n",
              "          }\n",
              "        }\n",
              "      }\n",
              "      const blob = new Blob(buffers, {type: 'application/binary'});\n",
              "      const a = document.createElement('a');\n",
              "      a.href = window.URL.createObjectURL(blob);\n",
              "      a.download = filename;\n",
              "      div.appendChild(a);\n",
              "      a.click();\n",
              "      div.remove();\n",
              "    }\n",
              "  "
            ]
          },
          "metadata": {}
        },
        {
          "output_type": "display_data",
          "data": {
            "text/plain": [
              "<IPython.core.display.Javascript object>"
            ],
            "application/javascript": [
              "download(\"download_abceee62-f182-4a2b-b563-0e02ed9d6d70\", \"abundance.tsv\", 4975574)"
            ]
          },
          "metadata": {}
        }
      ]
    }
  ]
}